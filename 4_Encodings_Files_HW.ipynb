{
 "cells": [
  {
   "cell_type": "markdown",
   "metadata": {},
   "source": [
    "### Большая часть задач требует операций с файлами, поэтому для воспроизводимости результатов работы вашего кода эти файлы нужно создавать\n",
    "\n",
    "### Можете их всех создавать в текущей папке, быстро и удобно это можно сделать таким способом:"
   ]
  },
  {
   "cell_type": "code",
   "execution_count": 13,
   "metadata": {
    "collapsed": true
   },
   "outputs": [],
   "source": [
    "text = \"\"\"123\n",
    "4567\n",
    " 8910\n",
    "\"\"\"\n",
    "with open('task_1_1_source', 'w') as f:\n",
    "    f.write(text)"
   ]
  },
  {
   "cell_type": "code",
   "execution_count": 14,
   "metadata": {},
   "outputs": [
    {
     "name": "stdout",
     "output_type": "stream",
     "text": [
      "123\n",
      "4567\n",
      " 8910\n",
      "\n"
     ]
    }
   ],
   "source": [
    "#cat task_1_1_source\n",
    "with open('task_1_1_source', 'r') as f:\n",
    "     print f.read()"
   ]
  },
  {
   "cell_type": "markdown",
   "metadata": {},
   "source": [
    "# Базовый уровень"
   ]
  },
  {
   "cell_type": "markdown",
   "metadata": {},
   "source": [
    "## Задание 1.1\n",
    "\n",
    "Напишите функцию, копирующую файл\n",
    "\n",
    "source_path должен существовать, а отсутствующие промежуточные папки из target_path должны быть созданы\n",
    "\n",
    "Подсказка: можно прочитать исходный файл и записать в новый. \n",
    "\n",
    "Опциональное усложнение: попробуйте написать так, чтобы функция работала и с большими файлами (нужно, чтобы содежимое файла не считывалось полностью в память)"
   ]
  },
  {
   "cell_type": "code",
   "execution_count": 52,
   "metadata": {
    "collapsed": true
   },
   "outputs": [],
   "source": [
    "def copy_file(source_path, target_path):\n",
    "    import os\n",
    "    with open(source_path, 'r') as fr:\n",
    "        if (os.path.exists(target_path)):\n",
    "            print \"destination path already exists\"\n",
    "        else:\n",
    "            print \"destination path does not exist\"\n",
    "            print \"creating destination path:\"\n",
    "            print\n",
    "            temp = target_path[::-1]\n",
    "            print \"\\ttemp: \" + temp\n",
    "            name = \"\"\n",
    "            for i in range(len(temp)):\n",
    "                if (temp[i] != \"/\"):\n",
    "                    name += temp[i]\n",
    "                else:\n",
    "                    break\n",
    "            print \"\\tname: \" + name\n",
    "            print\n",
    "            \n",
    "            folder_target_path = target_path[:len(target_path)-len(name)-1]\n",
    "            print \"\\tfolder_target_path: \" + folder_target_path\n",
    "            name_target_path = name[::-1]\n",
    "            print \"\\tname_target_path: \" + name_target_path\n",
    "            os.makedirs(target_path[:len(target_path)-len(name)])\n",
    "            #замудрённо, но работает\n",
    "        with open(target_path, 'w') as fw:\n",
    "            fw.write(fr.read())"
   ]
  },
  {
   "cell_type": "code",
   "execution_count": 53,
   "metadata": {},
   "outputs": [
    {
     "name": "stdout",
     "output_type": "stream",
     "text": [
      "destination path does not exist\n",
      "creating destination path:\n",
      "\n",
      "\ttemp: txt.tuptuo/wen/:D\n",
      "\tname: txt.tuptuo\n",
      "\n",
      "\tfolder_target_path: D:/new\n",
      "\tname_target_path: output.txt\n"
     ]
    }
   ],
   "source": [
    "copy_file('D:/input.txt', 'D:/new/output.txt')"
   ]
  },
  {
   "cell_type": "markdown",
   "metadata": {},
   "source": [
    "## Задание 1.2\n",
    "\n",
    "##### В файле source_path находится англо-латинский словарь, то есть список слов на английском языке и их переводы на латинский язык (переводов может быть несколько). Необходимо создать из него латино-английский словарь по пути target_path. Например, из словаря\n",
    "\n",
    "\n",
    "\n",
    "apple - malum, pomum, popula\n",
    "\n",
    "fruit - baca, bacca, popum\n",
    "\n",
    "punishment - malum, multa\n",
    "\n",
    "\n",
    "\n",
    "##### нужно сделать словарь.\n",
    "\n",
    "baca - fruit\n",
    "\n",
    "bacca - fruit\n",
    "\n",
    "malum - apple, punishment\n",
    "\n",
    "multa - punishment\n",
    "\n",
    "pomum - apple\n",
    "\n",
    "popula - apple\n",
    "\n",
    "popum - fruit\n",
    "\n",
    "##### Не забудьте, что слова нужно расположить в алфавитном порядке.\n",
    "##### Будет полезна функция strip у строки для удаления пробелов\n"
   ]
  },
  {
   "cell_type": "code",
   "execution_count": 1,
   "metadata": {
    "collapsed": true
   },
   "outputs": [],
   "source": [
    "def eng_lat_2_lat_eng(source_path, target_path):\n",
    "    dictt = dict()\n",
    "    with open(source_path, 'r') as fr:  \n",
    "        for line in fr:\n",
    "            splited_line = line.split(\" - \")\n",
    "            new_words = splited_line[1].strip().split(\", \")\n",
    "            for word in new_words:\n",
    "                if word in dictt:\n",
    "                    dictt[word].append(splited_line[0].strip())\n",
    "                else:\n",
    "                    dictt[word] = [splited_line[0]]\n",
    "    sorted(dictt)\n",
    "    \n",
    "    with open(target_path, 'w') as fw:\n",
    "        for word in dictt:\n",
    "            s = word + \" - \"\n",
    "            for element in dictt[word]:\n",
    "                s = s + element + \", \"\n",
    "            fw.write(s[0:-2] + \"\\n\")"
   ]
  },
  {
   "cell_type": "code",
   "execution_count": 2,
   "metadata": {
    "collapsed": true
   },
   "outputs": [],
   "source": [
    "eng_lat_2_lat_eng('D:/input.txt', 'D:/output.txt')"
   ]
  },
  {
   "cell_type": "markdown",
   "metadata": {},
   "source": [
    "## Задание 1.3\n",
    "\n",
    "Напишите функцию, вычисляющую длину русского слова, независимо от его кодировки\n",
    "\n",
    "Если параметр encoding задан, то нужно декодировать текст при помощи этой кодировки. А если он не задан, то кодировку надо определить самостоятельно.\n",
    "\n",
    "##### Если кодировка не задана, то точное решение здесь написать не получится. Но можно воспользоваться функцией my_decoder из лекции"
   ]
  },
  {
   "cell_type": "code",
   "execution_count": 99,
   "metadata": {
    "collapsed": true
   },
   "outputs": [],
   "source": [
    "def my_len(word, encoding=None):\n",
    "    if encoding != None:\n",
    "        return len(word.decode(encoding))\n",
    "    elif type(word) is unicode:\n",
    "        return len(word)\n",
    "    else:\n",
    "        import chardet\n",
    "        return len(unicode(word, encoding=chardet.detect(word)['encoding']))"
   ]
  },
  {
   "cell_type": "code",
   "execution_count": 100,
   "metadata": {},
   "outputs": [
    {
     "name": "stdout",
     "output_type": "stream",
     "text": [
      "6\n"
     ]
    }
   ],
   "source": [
    "print len(u'йцукен')"
   ]
  },
  {
   "cell_type": "code",
   "execution_count": 101,
   "metadata": {},
   "outputs": [
    {
     "data": {
      "text/plain": [
       "True"
      ]
     },
     "execution_count": 101,
     "metadata": {},
     "output_type": "execute_result"
    }
   ],
   "source": [
    "my_len('текст') == 5"
   ]
  },
  {
   "cell_type": "code",
   "execution_count": 102,
   "metadata": {},
   "outputs": [
    {
     "data": {
      "text/plain": [
       "True"
      ]
     },
     "execution_count": 102,
     "metadata": {},
     "output_type": "execute_result"
    }
   ],
   "source": [
    "my_len(u'текст') == 5"
   ]
  },
  {
   "cell_type": "code",
   "execution_count": 103,
   "metadata": {},
   "outputs": [
    {
     "data": {
      "text/plain": [
       "True"
      ]
     },
     "execution_count": 103,
     "metadata": {},
     "output_type": "execute_result"
    }
   ],
   "source": [
    "my_len(u'ааааа'.encode('utf_16'), encoding='utf_16') == 5"
   ]
  },
  {
   "cell_type": "code",
   "execution_count": 104,
   "metadata": {},
   "outputs": [
    {
     "data": {
      "text/plain": [
       "True"
      ]
     },
     "execution_count": 104,
     "metadata": {},
     "output_type": "execute_result"
    }
   ],
   "source": [
    "my_len(u'текст'.encode('windows-1251')) == 5"
   ]
  },
  {
   "cell_type": "markdown",
   "metadata": {},
   "source": [
    "# Продвинутый уровень"
   ]
  },
  {
   "cell_type": "markdown",
   "metadata": {},
   "source": [
    "## Задание 2.1\n",
    "\n",
    "Напишите функцию, которая выписывает список файлов в данной директории и сортирует их в соответствии с их размером. Функция должна получать путь к директории в качестве аргумента и печатать на экран имена всех файлов в ней и их размеры, причем первыми должны идти файлы с наибольшими размерами, а в случае одинакового размер файлы сортируются по алфавиту.\n",
    "\n",
    "##### Указание. Изучите функции listdir и stat из модуля os и функции isfile и join из модуля os.path.\n"
   ]
  },
  {
   "cell_type": "code",
   "execution_count": 31,
   "metadata": {
    "collapsed": true
   },
   "outputs": [],
   "source": [
    "?os.path.getsize"
   ]
  },
  {
   "cell_type": "code",
   "execution_count": 60,
   "metadata": {},
   "outputs": [
    {
     "name": "stdout",
     "output_type": "stream",
     "text": [
      "0 anot.txt\n",
      "0 poas.txt\n",
      "114 desktop.ini\n",
      "10072 Лекарства.xlsx\n",
      "193783 Рабочий стол.jpg\n",
      "362884 night-sky-stars FIX.jpg\n",
      "730277 forever-shady-s.jpg\n"
     ]
    }
   ],
   "source": [
    "def my_sort(x):\n",
    "    return x[1]\n",
    "\n",
    "import os, os.path as p\n",
    "path = 'D:/Files'\n",
    "files = []\n",
    "elements = os.listdir(path)\n",
    "for i in elements:\n",
    "    filepath = path + \"/\" + i\n",
    "    if p.isfile(filepath) == True:\n",
    "        files.append((i, os.path.getsize(filepath)))\n",
    "        \n",
    "sfiles = sorted(files, key = my_sort)\n",
    "import chardet\n",
    "for f in sfiles:\n",
    "    print f[1], unicode(f[0], encoding=chardet.detect(f[0])['encoding'])"
   ]
  },
  {
   "cell_type": "code",
   "execution_count": 61,
   "metadata": {},
   "outputs": [],
   "source": [
    "def my_sort(x):\n",
    "    return x[1]\n",
    "\n",
    "def get_dir_content_info(path):\n",
    "\n",
    "    import os, os.path as p\n",
    "    files = []\n",
    "    elements = os.listdir(path)\n",
    "    for i in elements:\n",
    "        filepath = path + \"/\" + i\n",
    "        if p.isfile(filepath) == True:\n",
    "            files.append((i, os.path.getsize(filepath)))\n",
    "\n",
    "    sfiles = sorted(files, key = my_sort)"
   ]
  },
  {
   "cell_type": "markdown",
   "metadata": {},
   "source": [
    "## Задание 2.2\n",
    "\n",
    "Аналогично 1.2, но только теперь англо-русский в русско-английский словарь. Дополнительно теперь будет ещё параметр encoding для кодировки файлов. Если он None, то нужно самостоятельно определить кодировку файла.\n",
    "\n",
    "##### Решение будет почти дублировать 1.2, но сначала текст нужно привести в unicode"
   ]
  },
  {
   "cell_type": "code",
   "execution_count": null,
   "metadata": {
    "collapsed": true
   },
   "outputs": [],
   "source": [
    "def eng_rus_2_rus_eng(source_path, target_path, encoding=None):\n",
    "    # Допишите код\n",
    "    return"
   ]
  },
  {
   "cell_type": "markdown",
   "metadata": {},
   "source": [
    "# Сложный уровень"
   ]
  },
  {
   "cell_type": "markdown",
   "metadata": {},
   "source": [
    "## Задание 3.1\n",
    "\n",
    "Существует исследование, говорящее о том, что в словах текста можно произвольно переставить буквы (не затрагивая первую и последнюю), и от этого читабельность текста практически не ухудшится. Напишите функцию для проверки этого факта. Ваша функция должна получать на вход какой-нибудь текст (может быть и на русском языке) и переставлять буквы в его словах случайным образом. \n",
    "\n",
    "Если seed None, то буквы переставляются не случайным образом, а сортируются по алфавиту (латинские символы считаем меньше кириллических). Если seed не None, то нужно использовать это seed при инициализации рандома. Сравните результаты.\n",
    "\n",
    "##### будем считать, что текст это последовательность кириллических и латинских символов разделённая пробелом\n",
    "##### вам потребуется модуль random и функции random.seed и random.shuffle\n",
    "##### проверьте результат работы на не юникодовских строчках и объясните результат"
   ]
  },
  {
   "cell_type": "code",
   "execution_count": null,
   "metadata": {
    "collapsed": true
   },
   "outputs": [],
   "source": [
    "def text_shuffle(text, seed=None):\n",
    "    # Допишите код\n",
    "    return"
   ]
  },
  {
   "cell_type": "markdown",
   "metadata": {},
   "source": [
    "## Задание 3.2\n",
    "\n",
    "Напишите функцию, которая читает два файла построчно (то есть не загружая всё содержимое в память), и записывает в выходной файл результат лексиграфического сравнение срочки из первого файла и из второго (First, Second и Equal по аналогии c предыдущим ДЗ)."
   ]
  },
  {
   "cell_type": "code",
   "execution_count": null,
   "metadata": {
    "collapsed": true
   },
   "outputs": [],
   "source": [
    "def process(fst_source_path, snd_source_path, target_path):\n",
    "    # Допишите код\n",
    "    return"
   ]
  },
  {
   "cell_type": "code",
   "execution_count": null,
   "metadata": {
    "collapsed": true
   },
   "outputs": [],
   "source": []
  }
 ],
 "metadata": {
  "anaconda-cloud": {},
  "kernelspec": {
   "display_name": "Python 2",
   "language": "python",
   "name": "python2"
  },
  "language_info": {
   "codemirror_mode": {
    "name": "ipython",
    "version": 2
   },
   "file_extension": ".py",
   "mimetype": "text/x-python",
   "name": "python",
   "nbconvert_exporter": "python",
   "pygments_lexer": "ipython2",
   "version": "2.7.13"
  }
 },
 "nbformat": 4,
 "nbformat_minor": 2
}
